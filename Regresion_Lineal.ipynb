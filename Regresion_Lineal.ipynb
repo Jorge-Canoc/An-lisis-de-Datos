{
 "cells": [
  {
   "cell_type": "code",
   "execution_count": 12,
   "id": "d7f316d9-ae66-4fb0-85e6-b9abedc0a5b2",
   "metadata": {},
   "outputs": [],
   "source": [
    "import pandas as pd\n",
    "import numpy as np\n",
    "import seaborn as sns\n",
    "import matplotlib.pyplot as plt"
   ]
  },
  {
   "cell_type": "code",
   "execution_count": 13,
   "id": "4cc80297-ef6a-4b73-b4c2-d18312ce64c9",
   "metadata": {},
   "outputs": [],
   "source": [
    "from sklearn import metrics\n",
    "from sklearn.model_selection import train_test_split\n",
    "from sklearn.linear_model import LinearRegression\n",
    "from sklearn.metrics import classification_report, confusion_matrix"
   ]
  },
  {
   "cell_type": "code",
   "execution_count": 14,
   "id": "b66a9de4-1986-4b0c-86a5-28763a7c81fb",
   "metadata": {},
   "outputs": [],
   "source": [
    "Datos = pd.read_csv('./Car_details_v3.csv')"
   ]
  },
  {
   "cell_type": "code",
   "execution_count": 15,
   "id": "becbe454-e70c-40a9-a878-968675c78c19",
   "metadata": {},
   "outputs": [
    {
     "data": {
      "text/html": [
       "<div>\n",
       "<style scoped>\n",
       "    .dataframe tbody tr th:only-of-type {\n",
       "        vertical-align: middle;\n",
       "    }\n",
       "\n",
       "    .dataframe tbody tr th {\n",
       "        vertical-align: top;\n",
       "    }\n",
       "\n",
       "    .dataframe thead th {\n",
       "        text-align: right;\n",
       "    }\n",
       "</style>\n",
       "<table border=\"1\" class=\"dataframe\">\n",
       "  <thead>\n",
       "    <tr style=\"text-align: right;\">\n",
       "      <th></th>\n",
       "      <th>name</th>\n",
       "      <th>year</th>\n",
       "      <th>selling_price</th>\n",
       "      <th>km_driven</th>\n",
       "      <th>fuel</th>\n",
       "      <th>seller_type</th>\n",
       "      <th>transmission</th>\n",
       "      <th>owner</th>\n",
       "      <th>mileage</th>\n",
       "      <th>engine</th>\n",
       "      <th>max_power</th>\n",
       "      <th>torque</th>\n",
       "      <th>seats</th>\n",
       "    </tr>\n",
       "  </thead>\n",
       "  <tbody>\n",
       "    <tr>\n",
       "      <th>0</th>\n",
       "      <td>Maruti Swift Dzire VDI</td>\n",
       "      <td>2014</td>\n",
       "      <td>450000</td>\n",
       "      <td>145500</td>\n",
       "      <td>Diesel</td>\n",
       "      <td>Individual</td>\n",
       "      <td>Manual</td>\n",
       "      <td>First Owner</td>\n",
       "      <td>23.4 kmpl</td>\n",
       "      <td>1248 CC</td>\n",
       "      <td>74 bhp</td>\n",
       "      <td>190Nm@ 2000rpm</td>\n",
       "      <td>5.0</td>\n",
       "    </tr>\n",
       "    <tr>\n",
       "      <th>1</th>\n",
       "      <td>Skoda Rapid 1.5 TDI Ambition</td>\n",
       "      <td>2014</td>\n",
       "      <td>370000</td>\n",
       "      <td>120000</td>\n",
       "      <td>Diesel</td>\n",
       "      <td>Individual</td>\n",
       "      <td>Manual</td>\n",
       "      <td>Second Owner</td>\n",
       "      <td>21.14 kmpl</td>\n",
       "      <td>1498 CC</td>\n",
       "      <td>103.52 bhp</td>\n",
       "      <td>250Nm@ 1500-2500rpm</td>\n",
       "      <td>5.0</td>\n",
       "    </tr>\n",
       "    <tr>\n",
       "      <th>2</th>\n",
       "      <td>Honda City 2017-2020 EXi</td>\n",
       "      <td>2006</td>\n",
       "      <td>158000</td>\n",
       "      <td>140000</td>\n",
       "      <td>Petrol</td>\n",
       "      <td>Individual</td>\n",
       "      <td>Manual</td>\n",
       "      <td>Third Owner</td>\n",
       "      <td>17.7 kmpl</td>\n",
       "      <td>1497 CC</td>\n",
       "      <td>78 bhp</td>\n",
       "      <td>12.7@ 2,700(kgm@ rpm)</td>\n",
       "      <td>5.0</td>\n",
       "    </tr>\n",
       "    <tr>\n",
       "      <th>3</th>\n",
       "      <td>Hyundai i20 Sportz Diesel</td>\n",
       "      <td>2010</td>\n",
       "      <td>225000</td>\n",
       "      <td>127000</td>\n",
       "      <td>Diesel</td>\n",
       "      <td>Individual</td>\n",
       "      <td>Manual</td>\n",
       "      <td>First Owner</td>\n",
       "      <td>23.0 kmpl</td>\n",
       "      <td>1396 CC</td>\n",
       "      <td>90 bhp</td>\n",
       "      <td>22.4 kgm at 1750-2750rpm</td>\n",
       "      <td>5.0</td>\n",
       "    </tr>\n",
       "    <tr>\n",
       "      <th>4</th>\n",
       "      <td>Maruti Swift VXI BSIII</td>\n",
       "      <td>2007</td>\n",
       "      <td>130000</td>\n",
       "      <td>120000</td>\n",
       "      <td>Petrol</td>\n",
       "      <td>Individual</td>\n",
       "      <td>Manual</td>\n",
       "      <td>First Owner</td>\n",
       "      <td>16.1 kmpl</td>\n",
       "      <td>1298 CC</td>\n",
       "      <td>88.2 bhp</td>\n",
       "      <td>11.5@ 4,500(kgm@ rpm)</td>\n",
       "      <td>5.0</td>\n",
       "    </tr>\n",
       "    <tr>\n",
       "      <th>5</th>\n",
       "      <td>Hyundai Xcent 1.2 VTVT E Plus</td>\n",
       "      <td>2017</td>\n",
       "      <td>440000</td>\n",
       "      <td>45000</td>\n",
       "      <td>Petrol</td>\n",
       "      <td>Individual</td>\n",
       "      <td>Manual</td>\n",
       "      <td>First Owner</td>\n",
       "      <td>20.14 kmpl</td>\n",
       "      <td>1197 CC</td>\n",
       "      <td>81.86 bhp</td>\n",
       "      <td>113.75nm@ 4000rpm</td>\n",
       "      <td>5.0</td>\n",
       "    </tr>\n",
       "    <tr>\n",
       "      <th>6</th>\n",
       "      <td>Maruti Wagon R LXI DUO BSIII</td>\n",
       "      <td>2007</td>\n",
       "      <td>96000</td>\n",
       "      <td>175000</td>\n",
       "      <td>LPG</td>\n",
       "      <td>Individual</td>\n",
       "      <td>Manual</td>\n",
       "      <td>First Owner</td>\n",
       "      <td>17.3 km/kg</td>\n",
       "      <td>1061 CC</td>\n",
       "      <td>57.5 bhp</td>\n",
       "      <td>7.8@ 4,500(kgm@ rpm)</td>\n",
       "      <td>5.0</td>\n",
       "    </tr>\n",
       "    <tr>\n",
       "      <th>7</th>\n",
       "      <td>Maruti 800 DX BSII</td>\n",
       "      <td>2001</td>\n",
       "      <td>45000</td>\n",
       "      <td>5000</td>\n",
       "      <td>Petrol</td>\n",
       "      <td>Individual</td>\n",
       "      <td>Manual</td>\n",
       "      <td>Second Owner</td>\n",
       "      <td>16.1 kmpl</td>\n",
       "      <td>796 CC</td>\n",
       "      <td>37 bhp</td>\n",
       "      <td>59Nm@ 2500rpm</td>\n",
       "      <td>4.0</td>\n",
       "    </tr>\n",
       "    <tr>\n",
       "      <th>8</th>\n",
       "      <td>Toyota Etios VXD</td>\n",
       "      <td>2011</td>\n",
       "      <td>350000</td>\n",
       "      <td>90000</td>\n",
       "      <td>Diesel</td>\n",
       "      <td>Individual</td>\n",
       "      <td>Manual</td>\n",
       "      <td>First Owner</td>\n",
       "      <td>23.59 kmpl</td>\n",
       "      <td>1364 CC</td>\n",
       "      <td>67.1 bhp</td>\n",
       "      <td>170Nm@ 1800-2400rpm</td>\n",
       "      <td>5.0</td>\n",
       "    </tr>\n",
       "    <tr>\n",
       "      <th>9</th>\n",
       "      <td>Ford Figo Diesel Celebration Edition</td>\n",
       "      <td>2013</td>\n",
       "      <td>200000</td>\n",
       "      <td>169000</td>\n",
       "      <td>Diesel</td>\n",
       "      <td>Individual</td>\n",
       "      <td>Manual</td>\n",
       "      <td>First Owner</td>\n",
       "      <td>20.0 kmpl</td>\n",
       "      <td>1399 CC</td>\n",
       "      <td>68.1 bhp</td>\n",
       "      <td>160Nm@ 2000rpm</td>\n",
       "      <td>5.0</td>\n",
       "    </tr>\n",
       "  </tbody>\n",
       "</table>\n",
       "</div>"
      ],
      "text/plain": [
       "                                   name  year  selling_price  km_driven  \\\n",
       "0                Maruti Swift Dzire VDI  2014         450000     145500   \n",
       "1          Skoda Rapid 1.5 TDI Ambition  2014         370000     120000   \n",
       "2              Honda City 2017-2020 EXi  2006         158000     140000   \n",
       "3             Hyundai i20 Sportz Diesel  2010         225000     127000   \n",
       "4                Maruti Swift VXI BSIII  2007         130000     120000   \n",
       "5         Hyundai Xcent 1.2 VTVT E Plus  2017         440000      45000   \n",
       "6          Maruti Wagon R LXI DUO BSIII  2007          96000     175000   \n",
       "7                    Maruti 800 DX BSII  2001          45000       5000   \n",
       "8                      Toyota Etios VXD  2011         350000      90000   \n",
       "9  Ford Figo Diesel Celebration Edition  2013         200000     169000   \n",
       "\n",
       "     fuel seller_type transmission         owner     mileage   engine  \\\n",
       "0  Diesel  Individual       Manual   First Owner   23.4 kmpl  1248 CC   \n",
       "1  Diesel  Individual       Manual  Second Owner  21.14 kmpl  1498 CC   \n",
       "2  Petrol  Individual       Manual   Third Owner   17.7 kmpl  1497 CC   \n",
       "3  Diesel  Individual       Manual   First Owner   23.0 kmpl  1396 CC   \n",
       "4  Petrol  Individual       Manual   First Owner   16.1 kmpl  1298 CC   \n",
       "5  Petrol  Individual       Manual   First Owner  20.14 kmpl  1197 CC   \n",
       "6     LPG  Individual       Manual   First Owner  17.3 km/kg  1061 CC   \n",
       "7  Petrol  Individual       Manual  Second Owner   16.1 kmpl   796 CC   \n",
       "8  Diesel  Individual       Manual   First Owner  23.59 kmpl  1364 CC   \n",
       "9  Diesel  Individual       Manual   First Owner   20.0 kmpl  1399 CC   \n",
       "\n",
       "    max_power                    torque  seats  \n",
       "0      74 bhp            190Nm@ 2000rpm    5.0  \n",
       "1  103.52 bhp       250Nm@ 1500-2500rpm    5.0  \n",
       "2      78 bhp     12.7@ 2,700(kgm@ rpm)    5.0  \n",
       "3      90 bhp  22.4 kgm at 1750-2750rpm    5.0  \n",
       "4    88.2 bhp     11.5@ 4,500(kgm@ rpm)    5.0  \n",
       "5   81.86 bhp         113.75nm@ 4000rpm    5.0  \n",
       "6    57.5 bhp      7.8@ 4,500(kgm@ rpm)    5.0  \n",
       "7      37 bhp             59Nm@ 2500rpm    4.0  \n",
       "8    67.1 bhp       170Nm@ 1800-2400rpm    5.0  \n",
       "9    68.1 bhp            160Nm@ 2000rpm    5.0  "
      ]
     },
     "execution_count": 15,
     "metadata": {},
     "output_type": "execute_result"
    }
   ],
   "source": [
    "Datos.head(10)"
   ]
  },
  {
   "cell_type": "code",
   "execution_count": 16,
   "id": "cf72d1bc-0b06-490a-bde7-ccca7e1ff408",
   "metadata": {},
   "outputs": [
    {
     "data": {
      "text/html": [
       "<div>\n",
       "<style scoped>\n",
       "    .dataframe tbody tr th:only-of-type {\n",
       "        vertical-align: middle;\n",
       "    }\n",
       "\n",
       "    .dataframe tbody tr th {\n",
       "        vertical-align: top;\n",
       "    }\n",
       "\n",
       "    .dataframe thead th {\n",
       "        text-align: right;\n",
       "    }\n",
       "</style>\n",
       "<table border=\"1\" class=\"dataframe\">\n",
       "  <thead>\n",
       "    <tr style=\"text-align: right;\">\n",
       "      <th></th>\n",
       "      <th>year</th>\n",
       "      <th>selling_price</th>\n",
       "      <th>km_driven</th>\n",
       "      <th>seats</th>\n",
       "    </tr>\n",
       "  </thead>\n",
       "  <tbody>\n",
       "    <tr>\n",
       "      <th>count</th>\n",
       "      <td>8128.000000</td>\n",
       "      <td>8.128000e+03</td>\n",
       "      <td>8.128000e+03</td>\n",
       "      <td>7907.000000</td>\n",
       "    </tr>\n",
       "    <tr>\n",
       "      <th>mean</th>\n",
       "      <td>2013.804011</td>\n",
       "      <td>6.382718e+05</td>\n",
       "      <td>6.981951e+04</td>\n",
       "      <td>5.416719</td>\n",
       "    </tr>\n",
       "    <tr>\n",
       "      <th>std</th>\n",
       "      <td>4.044249</td>\n",
       "      <td>8.062534e+05</td>\n",
       "      <td>5.655055e+04</td>\n",
       "      <td>0.959588</td>\n",
       "    </tr>\n",
       "    <tr>\n",
       "      <th>min</th>\n",
       "      <td>1983.000000</td>\n",
       "      <td>2.999900e+04</td>\n",
       "      <td>1.000000e+00</td>\n",
       "      <td>2.000000</td>\n",
       "    </tr>\n",
       "    <tr>\n",
       "      <th>25%</th>\n",
       "      <td>2011.000000</td>\n",
       "      <td>2.549990e+05</td>\n",
       "      <td>3.500000e+04</td>\n",
       "      <td>5.000000</td>\n",
       "    </tr>\n",
       "    <tr>\n",
       "      <th>50%</th>\n",
       "      <td>2015.000000</td>\n",
       "      <td>4.500000e+05</td>\n",
       "      <td>6.000000e+04</td>\n",
       "      <td>5.000000</td>\n",
       "    </tr>\n",
       "    <tr>\n",
       "      <th>75%</th>\n",
       "      <td>2017.000000</td>\n",
       "      <td>6.750000e+05</td>\n",
       "      <td>9.800000e+04</td>\n",
       "      <td>5.000000</td>\n",
       "    </tr>\n",
       "    <tr>\n",
       "      <th>max</th>\n",
       "      <td>2020.000000</td>\n",
       "      <td>1.000000e+07</td>\n",
       "      <td>2.360457e+06</td>\n",
       "      <td>14.000000</td>\n",
       "    </tr>\n",
       "  </tbody>\n",
       "</table>\n",
       "</div>"
      ],
      "text/plain": [
       "              year  selling_price     km_driven        seats\n",
       "count  8128.000000   8.128000e+03  8.128000e+03  7907.000000\n",
       "mean   2013.804011   6.382718e+05  6.981951e+04     5.416719\n",
       "std       4.044249   8.062534e+05  5.655055e+04     0.959588\n",
       "min    1983.000000   2.999900e+04  1.000000e+00     2.000000\n",
       "25%    2011.000000   2.549990e+05  3.500000e+04     5.000000\n",
       "50%    2015.000000   4.500000e+05  6.000000e+04     5.000000\n",
       "75%    2017.000000   6.750000e+05  9.800000e+04     5.000000\n",
       "max    2020.000000   1.000000e+07  2.360457e+06    14.000000"
      ]
     },
     "execution_count": 16,
     "metadata": {},
     "output_type": "execute_result"
    }
   ],
   "source": [
    "Datos.describe()"
   ]
  },
  {
   "cell_type": "code",
   "execution_count": 17,
   "id": "75d0f9d7-49d7-4a22-8c1e-1ef3761b2708",
   "metadata": {},
   "outputs": [
    {
     "data": {
      "text/plain": [
       "Text(0.5, 1.0, 'Valores Atípicos')"
      ]
     },
     "execution_count": 17,
     "metadata": {},
     "output_type": "execute_result"
    },
    {
     "data": {
      "image/png": "[encoded data removed]",
      "text/plain": [
       "<Figure size 600x300 with 1 Axes>"
      ]
     },
     "metadata": {},
     "output_type": "display_data"
    }
   ],
   "source": [
    "plt.figure(figsize=(6, 3))\n",
    "sns.boxplot(x=Datos['year'])\n",
    "plt.title('Valores Atípicos', fontsize=10)"
   ]
  },
  {
   "cell_type": "code",
   "execution_count": 18,
   "id": "09a67a00-b120-4b75-9338-851c3b8f0cd7",
   "metadata": {},
   "outputs": [
    {
     "data": {
      "text/plain": [
       "Text(0.5, 1.0, 'Valores Atípicos')"
      ]
     },
     "execution_count": 18,
     "metadata": {},
     "output_type": "execute_result"
    },
    {
     "data": {
      "image/png": "[encoded data removed]",
      "text/plain": [
       "<Figure size 600x300 with 1 Axes>"
      ]
     },
     "metadata": {},
     "output_type": "display_data"
    }
   ],
   "source": [
    "plt.figure(figsize=(6, 3))\n",
    "sns.boxplot(x=Datos['selling_price'])\n",
    "plt.title('Valores Atípicos', fontsize=10)"
   ]
  },
  {
   "cell_type": "code",
   "execution_count": 19,
   "id": "c8279e5f-899a-4300-8f24-c1f54136a5c4",
   "metadata": {},
   "outputs": [
    {
     "data": {
      "text/plain": [
       "Text(0.5, 1.0, 'Valores Atípicos')"
      ]
     },
     "execution_count": 19,
     "metadata": {},
     "output_type": "execute_result"
    },
    {
     "data": {
      "image/png": "[encoded data removed]",
      "text/plain": [
       "<Figure size 600x300 with 1 Axes>"
      ]
     },
     "metadata": {},
     "output_type": "display_data"
    }
   ],
   "source": [
    "plt.figure(figsize=(6, 3))\n",
    "sns.boxplot(x=Datos['seats'])\n",
    "plt.title('Valores Atípicos', fontsize=10)"
   ]
  },
  {
   "cell_type": "code",
   "execution_count": 20,
   "id": "16568359-e6b4-474d-906f-1a4a8313b767",
   "metadata": {},
   "outputs": [
    {
     "data": {
      "text/plain": [
       "name               0\n",
       "year               0\n",
       "selling_price      0\n",
       "km_driven          0\n",
       "fuel               0\n",
       "seller_type        0\n",
       "transmission       0\n",
       "owner              0\n",
       "mileage          221\n",
       "engine           221\n",
       "max_power        215\n",
       "torque           222\n",
       "seats            221\n",
       "dtype: int64"
      ]
     },
     "execution_count": 20,
     "metadata": {},
     "output_type": "execute_result"
    }
   ],
   "source": [
    "Datos.isnull().sum()"
   ]
  },
  {
   "cell_type": "code",
   "execution_count": 21,
   "id": "a3c5b76e-b8e7-49de-9639-0aae0786a78e",
   "metadata": {},
   "outputs": [
    {
     "name": "stdout",
     "output_type": "stream",
     "text": [
      "Cantidad de registros en 0 en la columna year:  0\n",
      "Cantidad de registros en 0 en la columna mileage:  0\n"
     ]
    }
   ],
   "source": [
    "print (\"Cantidad de registros en 0 en la columna year: \",Datos['year'].isin([0]).sum())\n",
    "print (\"Cantidad de registros en 0 en la columna mileage: \",Datos['mileage'].isin([0]).sum())"
   ]
  },
  {
   "cell_type": "code",
   "execution_count": 22,
   "id": "cc7b31ee-d15b-47a2-a050-ce5c5df9d84c",
   "metadata": {},
   "outputs": [
    {
     "name": "stdout",
     "output_type": "stream",
     "text": [
      "year atipicos registra:  5\n"
     ]
    }
   ],
   "source": [
    "year_minimo = 1995\n",
    "year_maximo = 2024\n",
    "Total_atipicos = ((Datos['year']<year_minimo)|(Datos['year']>year_maximo)).sum()\n",
    "print (\"year atipicos registra: \",Total_atipicos)"
   ]
  },
  {
   "cell_type": "code",
   "execution_count": 23,
   "id": "a401aa14-f7c0-4117-bb2e-1546b103826b",
   "metadata": {},
   "outputs": [
    {
     "name": "stdout",
     "output_type": "stream",
     "text": [
      "selling_price minimo:  29999\n"
     ]
    }
   ],
   "source": [
    "price_minimo = Datos['selling_price'].min()\n",
    "print( \"selling_price minimo: \", price_minimo)"
   ]
  },
  {
   "cell_type": "code",
   "execution_count": 24,
   "id": "0607d716-947f-471d-95a2-03679959e777",
   "metadata": {},
   "outputs": [
    {
     "name": "stdout",
     "output_type": "stream",
     "text": [
      "selling_price maximo:  10000000\n"
     ]
    }
   ],
   "source": [
    "price_maximo = Datos['selling_price'].max()\n",
    "print(\"selling_price maximo: \", price_maximo)"
   ]
  },
  {
   "cell_type": "code",
   "execution_count": 25,
   "id": "995e38d4-001e-4d1e-b95e-2a356189103c",
   "metadata": {},
   "outputs": [
    {
     "name": "stdout",
     "output_type": "stream",
     "text": [
      "Estadistica descriptiva de selling_price:  count    8.128000e+03\n",
      "mean     6.382718e+05\n",
      "std      8.062534e+05\n",
      "min      2.999900e+04\n",
      "25%      2.549990e+05\n",
      "50%      4.500000e+05\n",
      "75%      6.750000e+05\n",
      "max      1.000000e+07\n",
      "Name: selling_price, dtype: float64\n"
     ]
    }
   ],
   "source": [
    "estadis_precio = Datos['selling_price'].describe()\n",
    "print(\"Estadistica descriptiva de selling_price: \", estadis_precio)"
   ]
  },
  {
   "cell_type": "code",
   "execution_count": 26,
   "id": "3451b118-c475-4899-ae09-0095f8a4ec2d",
   "metadata": {},
   "outputs": [
    {
     "name": "stdout",
     "output_type": "stream",
     "text": [
      "Correlación entre 'year' y 'selling_price': 0.4140918605571504\n"
     ]
    }
   ],
   "source": [
    "correlacion = Datos['year'].corr(Datos['selling_price'])\n",
    "print(\"Correlación entre 'year' y 'selling_price':\", correlacion)"
   ]
  },
  {
   "cell_type": "code",
   "execution_count": 27,
   "id": "3620fb73-0aa2-46d3-a502-9e9923ab007a",
   "metadata": {},
   "outputs": [],
   "source": [
    "Datos = Datos[(Datos['year']<year_maximo)&(Datos['year']>year_minimo)]"
   ]
  },
  {
   "cell_type": "code",
   "execution_count": 28,
   "id": "894aff36-ff68-4ac0-b9e0-c9a103d6c0dc",
   "metadata": {},
   "outputs": [
    {
     "name": "stdout",
     "output_type": "stream",
     "text": [
      "<class 'pandas.core.frame.DataFrame'>\n",
      "Index: 8121 entries, 0 to 8127\n",
      "Data columns (total 13 columns):\n",
      " #   Column         Non-Null Count  Dtype  \n",
      "---  ------         --------------  -----  \n",
      " 0   name           8121 non-null   object \n",
      " 1   year           8121 non-null   int64  \n",
      " 2   selling_price  8121 non-null   int64  \n",
      " 3   km_driven      8121 non-null   int64  \n",
      " 4   fuel           8121 non-null   object \n",
      " 5   seller_type    8121 non-null   object \n",
      " 6   transmission   8121 non-null   object \n",
      " 7   owner          8121 non-null   object \n",
      " 8   mileage        7904 non-null   object \n",
      " 9   engine         7904 non-null   object \n",
      " 10  max_power      7910 non-null   object \n",
      " 11  torque         7903 non-null   object \n",
      " 12  seats          7904 non-null   float64\n",
      "dtypes: float64(1), int64(3), object(9)\n",
      "memory usage: 888.2+ KB\n"
     ]
    }
   ],
   "source": [
    "Datos.info()"
   ]
  },
  {
   "cell_type": "code",
   "execution_count": 29,
   "id": "4a6646e6-e50c-4cb2-86ae-e32d60441af2",
   "metadata": {},
   "outputs": [],
   "source": [
    "Datos = Datos.dropna()"
   ]
  },
  {
   "cell_type": "code",
   "execution_count": 30,
   "id": "e7fb31f9-436f-4590-8892-06a1ab761333",
   "metadata": {},
   "outputs": [
    {
     "data": {
      "text/plain": [
       "Text(0.5, 1.0, 'Valores Atípicos')"
      ]
     },
     "execution_count": 30,
     "metadata": {},
     "output_type": "execute_result"
    },
    {
     "data": {
      "image/png": "[encoded data removed]",
      "text/plain": [
       "<Figure size 600x300 with 1 Axes>"
      ]
     },
     "metadata": {},
     "output_type": "display_data"
    }
   ],
   "source": [
    "plt.figure(figsize=(6, 3))\n",
    "sns.boxplot(x=Datos['year'])\n",
    "plt.title('Valores Atípicos', fontsize=10)"
   ]
  },
  {
   "cell_type": "code",
   "execution_count": 31,
   "id": "abfc2d95-5b96-459a-bba3-bd8e7866a4fb",
   "metadata": {},
   "outputs": [
    {
     "data": {
      "text/plain": [
       "Text(0.5, 1.0, 'Valores Atípicos')"
      ]
     },
     "execution_count": 31,
     "metadata": {},
     "output_type": "execute_result"
    },
    {
     "data": {
      "image/png": "[encoded data removed]",
      "text/plain": [
       "<Figure size 600x300 with 1 Axes>"
      ]
     },
     "metadata": {},
     "output_type": "display_data"
    }
   ],
   "source": [
    "plt.figure(figsize=(6, 3))\n",
    "sns.boxplot(x=Datos['km_driven'])\n",
    "plt.title('Valores Atípicos', fontsize=10)"
   ]
  },
  {
   "cell_type": "code",
   "execution_count": 32,
   "id": "caad79e7-083c-4d73-8253-cb874fa9e998",
   "metadata": {},
   "outputs": [
    {
     "name": "stdout",
     "output_type": "stream",
     "text": [
      "km_driven minimo:  1\n"
     ]
    }
   ],
   "source": [
    "km_drivenMin = Datos['km_driven'].min()\n",
    "print( \"km_driven minimo: \", km_drivenMin)"
   ]
  },
  {
   "cell_type": "code",
   "execution_count": 33,
   "id": "56616115-5a30-490b-bbf3-ef74496243f6",
   "metadata": {},
   "outputs": [
    {
     "name": "stdout",
     "output_type": "stream",
     "text": [
      "km_driven maximo:  2360457\n"
     ]
    }
   ],
   "source": [
    "km_drivenMax = Datos['km_driven'].max()\n",
    "print(\"km_driven maximo: \", km_drivenMax)"
   ]
  },
  {
   "cell_type": "code",
   "execution_count": 34,
   "id": "78641178-3384-4394-98ff-2949dad2e9d9",
   "metadata": {},
   "outputs": [
    {
     "name": "stdout",
     "output_type": "stream",
     "text": [
      "km_driven atipicos registra:  3\n"
     ]
    }
   ],
   "source": [
    "km_drivenMin = 1\n",
    "km_drivenMax = 500000\n",
    "Total_Drivenati = ((Datos['km_driven']<km_drivenMin)|(Datos['km_driven']>km_drivenMax)).sum()\n",
    "print (\"km_driven atipicos registra: \",Total_Drivenati)"
   ]
  },
  {
   "cell_type": "code",
   "execution_count": 35,
   "id": "def7be42-f2cd-44fb-88b0-6306607c68d4",
   "metadata": {},
   "outputs": [],
   "source": [
    "Datos = Datos[(Datos['km_driven']<km_drivenMax)&(Datos['year']>km_drivenMin)]"
   ]
  },
  {
   "cell_type": "code",
   "execution_count": 36,
   "id": "c7793215-31fe-4cb0-931d-bb4f0b336083",
   "metadata": {},
   "outputs": [
    {
     "name": "stdout",
     "output_type": "stream",
     "text": [
      "<class 'pandas.core.frame.DataFrame'>\n",
      "Index: 7898 entries, 0 to 8127\n",
      "Data columns (total 13 columns):\n",
      " #   Column         Non-Null Count  Dtype  \n",
      "---  ------         --------------  -----  \n",
      " 0   name           7898 non-null   object \n",
      " 1   year           7898 non-null   int64  \n",
      " 2   selling_price  7898 non-null   int64  \n",
      " 3   km_driven      7898 non-null   int64  \n",
      " 4   fuel           7898 non-null   object \n",
      " 5   seller_type    7898 non-null   object \n",
      " 6   transmission   7898 non-null   object \n",
      " 7   owner          7898 non-null   object \n",
      " 8   mileage        7898 non-null   object \n",
      " 9   engine         7898 non-null   object \n",
      " 10  max_power      7898 non-null   object \n",
      " 11  torque         7898 non-null   object \n",
      " 12  seats          7898 non-null   float64\n",
      "dtypes: float64(1), int64(3), object(9)\n",
      "memory usage: 863.8+ KB\n"
     ]
    }
   ],
   "source": [
    "Datos.info()"
   ]
  },
  {
   "cell_type": "code",
   "execution_count": 37,
   "id": "a55d3957-f84b-4564-bff9-832adbaef772",
   "metadata": {},
   "outputs": [
    {
     "data": {
      "text/plain": [
       "selling_price\n",
       "300000     221\n",
       "600000     211\n",
       "550000     203\n",
       "350000     203\n",
       "450000     194\n",
       "          ... \n",
       "3900000      1\n",
       "2850000      1\n",
       "39000        1\n",
       "112999       1\n",
       "746000       1\n",
       "Name: count, Length: 669, dtype: int64"
      ]
     },
     "execution_count": 37,
     "metadata": {},
     "output_type": "execute_result"
    }
   ],
   "source": [
    "Datos['selling_price'].value_counts()"
   ]
  },
  {
   "cell_type": "code",
   "execution_count": 38,
   "id": "42bb243d-9357-4323-910c-7ac9bac71b07",
   "metadata": {},
   "outputs": [
    {
     "data": {
      "text/plain": [
       "year\n",
       "2017    1010\n",
       "2016     856\n",
       "2018     806\n",
       "2015     775\n",
       "2013     668\n",
       "2014     620\n",
       "2012     620\n",
       "2019     583\n",
       "2011     568\n",
       "2010     374\n",
       "2009     231\n",
       "2008     201\n",
       "2007     172\n",
       "2006     102\n",
       "2005      76\n",
       "2020      74\n",
       "2004      51\n",
       "2003      37\n",
       "2002      19\n",
       "2000      15\n",
       "1999      14\n",
       "1998       9\n",
       "1997       9\n",
       "2001       6\n",
       "1996       2\n",
       "Name: count, dtype: int64"
      ]
     },
     "execution_count": 38,
     "metadata": {},
     "output_type": "execute_result"
    }
   ],
   "source": [
    "Datos['year'].value_counts()"
   ]
  },
  {
   "cell_type": "code",
   "execution_count": 39,
   "id": "cbf9c1b0-efbc-4688-a82c-8ff17e1d6064",
   "metadata": {},
   "outputs": [
    {
     "data": {
      "text/plain": [
       "seats\n",
       "5.0     6250\n",
       "7.0     1118\n",
       "8.0      235\n",
       "4.0      131\n",
       "9.0       80\n",
       "6.0       62\n",
       "10.0      19\n",
       "2.0        2\n",
       "14.0       1\n",
       "Name: count, dtype: int64"
      ]
     },
     "execution_count": 39,
     "metadata": {},
     "output_type": "execute_result"
    }
   ],
   "source": [
    "Datos['seats'].value_counts()"
   ]
  },
  {
   "cell_type": "code",
   "execution_count": 40,
   "id": "018774cb-5ee8-4ee8-afda-a3c46776fd89",
   "metadata": {},
   "outputs": [],
   "source": [
    "entrena = Datos.drop('selling_price', axis=1)\n",
    "# se crea el archivo entrena sin la columna selling_price"
   ]
  },
  {
   "cell_type": "code",
   "execution_count": 41,
   "id": "7118abb1-a4a8-4a77-8ecd-2282068e86ba",
   "metadata": {},
   "outputs": [],
   "source": [
    "prueba = Datos['selling_price']\n",
    "# se crea el archivo prueba que solo contiene la columna selling_price"
   ]
  },
  {
   "cell_type": "code",
   "execution_count": 47,
   "id": "724b7300-2359-48d5-ad0c-e7fb5a74506f",
   "metadata": {},
   "outputs": [],
   "source": [
    "entrena_train, entrena_test, prueba_train, prueba_test = train_test_split(entrena, prueba, test_size=0.25, random_state=0)"
   ]
  },
  {
   "cell_type": "code",
   "execution_count": 48,
   "id": "e8de39c4-046c-434f-b294-e583f723abd5",
   "metadata": {},
   "outputs": [
    {
     "name": "stdout",
     "output_type": "stream",
     "text": [
      "<class 'pandas.core.frame.DataFrame'>\n",
      "Index: 7898 entries, 0 to 8127\n",
      "Data columns (total 12 columns):\n",
      " #   Column        Non-Null Count  Dtype  \n",
      "---  ------        --------------  -----  \n",
      " 0   name          7898 non-null   object \n",
      " 1   year          7898 non-null   int64  \n",
      " 2   km_driven     7898 non-null   int64  \n",
      " 3   fuel          7898 non-null   object \n",
      " 4   seller_type   7898 non-null   object \n",
      " 5   transmission  7898 non-null   object \n",
      " 6   owner         7898 non-null   object \n",
      " 7   mileage       7898 non-null   object \n",
      " 8   engine        7898 non-null   object \n",
      " 9   max_power     7898 non-null   object \n",
      " 10  torque        7898 non-null   object \n",
      " 11  seats         7898 non-null   float64\n",
      "dtypes: float64(1), int64(2), object(9)\n",
      "memory usage: 802.1+ KB\n"
     ]
    }
   ],
   "source": [
    "entrena.info()"
   ]
  },
  {
   "cell_type": "code",
   "execution_count": 49,
   "id": "1923f8a5-37e9-420d-8509-61913407d355",
   "metadata": {},
   "outputs": [
    {
     "name": "stdout",
     "output_type": "stream",
     "text": [
      "<class 'pandas.core.series.Series'>\n",
      "Index: 7898 entries, 0 to 8127\n",
      "Series name: selling_price\n",
      "Non-Null Count  Dtype\n",
      "--------------  -----\n",
      "7898 non-null   int64\n",
      "dtypes: int64(1)\n",
      "memory usage: 123.4 KB\n"
     ]
    }
   ],
   "source": [
    "prueba.info()"
   ]
  },
  {
   "cell_type": "code",
   "execution_count": 50,
   "id": "8c72f1c1-3d19-4771-b08b-b6563c8c5378",
   "metadata": {},
   "outputs": [
    {
     "name": "stdout",
     "output_type": "stream",
     "text": [
      "3410    3200000\n",
      "1683     678000\n",
      "6883     466000\n",
      "6574    5150000\n",
      "4567     370000\n",
      "         ...   \n",
      "5081     800000\n",
      "3369     450000\n",
      "1704     475000\n",
      "2696     170000\n",
      "2823    1650000\n",
      "Name: selling_price, Length: 5923, dtype: int64\n"
     ]
    }
   ],
   "source": [
    "print (prueba_train)"
   ]
  },
  {
   "cell_type": "code",
   "execution_count": 52,
   "id": "8c21be31-3639-4864-beee-1c3be2207d1b",
   "metadata": {},
   "outputs": [],
   "source": [
    "M_regresion = LinearRegression()\n",
    "# se define el modelo de regresion y se llama liblinear que una libreria"
   ]
  },
  {
   "cell_type": "code",
   "execution_count": null,
   "id": "d299c3f1-b109-4b5a-8017-0368ab4b083a",
   "metadata": {},
   "outputs": [],
   "source": []
  }
 ],
 "metadata": {
  "kernelspec": {
   "display_name": "Python 3 (ipykernel)",
   "language": "python",
   "name": "python3"
  },
  "language_info": {
   "codemirror_mode": {
    "name": "ipython",
    "version": 3
   },
   "file_extension": ".py",
   "mimetype": "text/x-python",
   "name": "python",
   "nbconvert_exporter": "python",
   "pygments_lexer": "ipython3",
   "version": "3.11.7"
  }
 },
 "nbformat": 4,
 "nbformat_minor": 5
}
